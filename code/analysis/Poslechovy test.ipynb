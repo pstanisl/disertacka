{
 "cells": [
  {
   "cell_type": "code",
   "execution_count": 1,
   "metadata": {
    "collapsed": false
   },
   "outputs": [],
   "source": [
    "%matplotlib inline\n",
    "import matplotlib.pyplot as plt\n",
    "import pandas as pd\n",
    "import re"
   ]
  },
  {
   "cell_type": "code",
   "execution_count": 2,
   "metadata": {
    "collapsed": true
   },
   "outputs": [],
   "source": [
    "path_hodnoceni = '../../data/koutenska_slova_hodnoceni.csv'\n",
    "path_result_11 = '../../data/results_PSt_varianta1.csv'\n",
    "path_result_12 = '../../data/results_PSt_varianta1_all_finished.csv'\n",
    "path_result_21 = '../../data/results_PSt_varianta2.csv'\n",
    "path_result_22 = '../../data/results_PSt_varianta2_all_finished.csv'"
   ]
  },
  {
   "cell_type": "code",
   "execution_count": 3,
   "metadata": {
    "collapsed": false
   },
   "outputs": [],
   "source": [
    "df_hodnoceni = pd.read_csv(path_hodnoceni, delimiter=';')\n",
    "df_var11 = pd.read_csv(path_result_11, delimiter=';')\n",
    "df_var12 = pd.read_csv(path_result_12, delimiter=';')\n",
    "df_var21 = pd.read_csv(path_result_21, delimiter=';')\n",
    "df_var22 = pd.read_csv(path_result_22, delimiter=';')"
   ]
  },
  {
   "cell_type": "markdown",
   "metadata": {},
   "source": [
    "## Varianta 1 - Merge"
   ]
  },
  {
   "cell_type": "code",
   "execution_count": 4,
   "metadata": {
    "collapsed": true
   },
   "outputs": [],
   "source": [
    "df_var11_merged = pd.merge(left=df_hodnoceni, right=df_var11, left_on='filename', right_on='filename')\n",
    "df_var12_merged = pd.merge(left=df_hodnoceni, right=df_var12, left_on='filename', right_on='filename')"
   ]
  },
  {
   "cell_type": "code",
   "execution_count": null,
   "metadata": {
    "collapsed": false
   },
   "outputs": [],
   "source": [
    "df_var11_merged.to_csv('../../data/var11_merged.csv', sep=';', index=False, encoding='utf-8')\n",
    "df_var12_merged.to_csv('../../data/var12_merged.csv', sep=';', index=False, encoding='utf-8')"
   ]
  },
  {
   "cell_type": "markdown",
   "metadata": {},
   "source": [
    "## Varianta 1 - Stats"
   ]
  },
  {
   "cell_type": "code",
   "execution_count": 5,
   "metadata": {
    "collapsed": false
   },
   "outputs": [
    {
     "name": "stdout",
     "output_type": "stream",
     "text": [
      "OK: mean 0.772 (0.246) median 0.850\n",
      "BAD: mean 0.426 (0.272) median 0.500\n",
      "QUESTIONABLE: mean 0.625 (0.282) median 0.740\n"
     ]
    }
   ],
   "source": [
    "df_var11_ok = df_var11_merged[df_var11_merged['Typ'] == 'OK']\n",
    "df_var11_bad = df_var11_merged[df_var11_merged['Typ'] == 'BAD']\n",
    "df_var11_questionable = df_var11_merged[df_var11_merged['Typ'] == 'QUESTIONABLE']\n",
    "\n",
    "print('OK: mean {:.3f} ({:.3f}) median {:.3f}'.format(\n",
    "        df_var11_ok['agreement'].mean(), \n",
    "        df_var11_ok['agreement'].std(), \n",
    "        df_var11_ok['agreement'].median()))\n",
    "print('BAD: mean {:.3f} ({:.3f}) median {:.3f}'.format(\n",
    "        df_var11_bad['agreement'].mean(),\n",
    "        df_var11_bad['agreement'].std(), \n",
    "        df_var11_bad['agreement'].median()))\n",
    "print('QUESTIONABLE: mean {:.3f} ({:.3f}) median {:.3f}'.format(\n",
    "        df_var11_questionable['agreement'].mean(), \n",
    "        df_var11_questionable['agreement'].std(), \n",
    "        df_var11_questionable['agreement'].median()))"
   ]
  },
  {
   "cell_type": "code",
   "execution_count": 6,
   "metadata": {
    "collapsed": false
   },
   "outputs": [
    {
     "name": "stdout",
     "output_type": "stream",
     "text": [
      "OK: mean 0.773 (0.247) median 0.840\n",
      "BAD: mean 0.423 (0.278) median 0.530\n",
      "QUESTIONABLE: mean 0.627 (0.282) median 0.740\n"
     ]
    }
   ],
   "source": [
    "df_var12_ok = df_var12_merged[df_var12_merged['Typ'] == 'OK']\n",
    "df_var12_bad = df_var12_merged[df_var12_merged['Typ'] == 'BAD']\n",
    "df_var12_questionable = df_var12_merged[df_var12_merged['Typ'] == 'QUESTIONABLE']\n",
    "\n",
    "print('OK: mean {:.3f} ({:.3f}) median {:.3f}'.format(\n",
    "        df_var12_ok['agreement'].mean(), \n",
    "        df_var12_ok['agreement'].std(), \n",
    "        df_var12_ok['agreement'].median()))\n",
    "print('BAD: mean {:.3f} ({:.3f}) median {:.3f}'.format(\n",
    "        df_var12_bad['agreement'].mean(),\n",
    "        df_var12_bad['agreement'].std(),\n",
    "        df_var12_bad['agreement'].median()))\n",
    "print('QUESTIONABLE: mean {:.3f} ({:.3f}) median {:.3f}'.format(\n",
    "        df_var12_questionable['agreement'].mean(),\n",
    "        df_var12_questionable['agreement'].std(),\n",
    "        df_var12_questionable['agreement'].median()))"
   ]
  },
  {
   "cell_type": "markdown",
   "metadata": {},
   "source": [
    "## Varianta 2 - Merge"
   ]
  },
  {
   "cell_type": "code",
   "execution_count": 7,
   "metadata": {
    "collapsed": true
   },
   "outputs": [],
   "source": [
    "re_filename = re.compile('(sent)(\\d+)_(\\d+)')"
   ]
  },
  {
   "cell_type": "code",
   "execution_count": 8,
   "metadata": {
    "collapsed": false
   },
   "outputs": [],
   "source": [
    "data21 = {'filename': [], 'word1': [], 'word2': [], 'index': []}\n",
    "\n",
    "for row in df_var21.itertuples():\n",
    "    filename = row.filename\n",
    "    res = re_filename.search(filename)\n",
    "    index = hash(tuple(sorted([int(res.group(2)), int(res.group(3))])))\n",
    "#     abs(hash(matrix.tostring())) % (10 ** 8)\n",
    "    sent1 = '{}{}_00'.format(res.group(1), res.group(2))\n",
    "    sent2 = '{}{}_00'.format(res.group(1), res.group(3))\n",
    "    word1 = df_hodnoceni[df_hodnoceni['filename'] == sent1]['Slovo'].values[0]\n",
    "    word2 = df_hodnoceni[df_hodnoceni['filename'] == sent2]['Slovo'].values[0]\n",
    "    # print('{0} = {1} ({3}) + {2} ({4})'.format(filename, sent1, sent2, word1, word2))\n",
    "    \n",
    "    data21['filename'].append(filename)\n",
    "    data21['word1'].append(word1)\n",
    "    data21['word2'].append(word2)\n",
    "    data21['index'].append(index)\n",
    "\n",
    "df_var21_merged = pd.merge(left=df_var21, right=pd.DataFrame(data21), left_on='filename', right_on='filename')"
   ]
  },
  {
   "cell_type": "code",
   "execution_count": 9,
   "metadata": {
    "collapsed": false
   },
   "outputs": [],
   "source": [
    "# Change order of columns\n",
    "cols = df_var21_merged.columns.tolist()\n",
    "cols = cols[:1] + cols[-2:] + cols[1:-3] + cols[-3: -2]\n",
    "df_var21_merged = df_var21_merged[cols]\n",
    "# df_var21_merged"
   ]
  },
  {
   "cell_type": "code",
   "execution_count": 10,
   "metadata": {
    "collapsed": true
   },
   "outputs": [],
   "source": [
    "data22 = {'filename': [], 'word1': [], 'word2': [], 'index': []}\n",
    "\n",
    "for row in df_var22.itertuples():\n",
    "    filename = row.filename\n",
    "    res = re_filename.search(filename)\n",
    "    index = hash(tuple(sorted([int(res.group(2)), int(res.group(3))])))\n",
    "    sent1 = '{}{}_00'.format(res.group(1), res.group(2))\n",
    "    sent2 = '{}{}_00'.format(res.group(1), res.group(3))\n",
    "    word1 = df_hodnoceni[df_hodnoceni['filename'] == sent1]['Slovo'].values[0]\n",
    "    word2 = df_hodnoceni[df_hodnoceni['filename'] == sent2]['Slovo'].values[0]\n",
    "    # print('{0} = {1} ({3}) + {2} ({4})'.format(filename, sent1, sent2, word1, word2))\n",
    "    \n",
    "    data22['filename'].append(filename)\n",
    "    data22['word1'].append(word1)\n",
    "    data22['word2'].append(word2)\n",
    "    data22['index'].append(index)\n",
    "\n",
    "df_var22_merged = pd.merge(left=df_var22, right=pd.DataFrame(data22), left_on='filename', right_on='filename')"
   ]
  },
  {
   "cell_type": "code",
   "execution_count": 11,
   "metadata": {
    "collapsed": false
   },
   "outputs": [],
   "source": [
    "# Change order of columns\n",
    "cols = df_var22_merged.columns.tolist()\n",
    "cols = cols[:1] + cols[-2:] + cols[1:-3] + cols[-3: -2]\n",
    "df_var22_merged = df_var22_merged[cols]\n",
    "# df_var22_merged"
   ]
  },
  {
   "cell_type": "markdown",
   "metadata": {},
   "source": [
    "### Save"
   ]
  },
  {
   "cell_type": "code",
   "execution_count": null,
   "metadata": {
    "collapsed": true
   },
   "outputs": [],
   "source": [
    "df_var21_merged.to_csv('../../data/var21_merged.csv', sep=';', index=False, encoding='utf-8')\n",
    "df_var22_merged.to_csv('../../data/var22_merged.csv', sep=';', index=False, encoding='utf-8')"
   ]
  },
  {
   "cell_type": "markdown",
   "metadata": {},
   "source": [
    "## Variana 1 + 2 - merge"
   ]
  },
  {
   "cell_type": "code",
   "execution_count": 12,
   "metadata": {
    "collapsed": false
   },
   "outputs": [],
   "source": [
    "data11_21 = {'filename': [], 'agreement1': [], 'agreement2': []}\n",
    "\n",
    "for index, row in enumerate(df_var21_merged.itertuples()):\n",
    "    filename = row.filename\n",
    "    res = re_filename.search(filename)\n",
    "    sent1 = '{}{}_00'.format(res.group(1), res.group(2))\n",
    "    sent2 = '{}{}_00'.format(res.group(1), res.group(3))\n",
    "    agreement1 = df_var11[df_var11['filename'] == sent1]['agreement'].values[0]\n",
    "    agreement2 = df_var11[df_var11['filename'] == sent2]['agreement'].values[0]\n",
    "#     print('{0} = {1} ({3}) + {2} ({4})'.format(filename, sent1, sent2, agreement1, agreement2))\n",
    "    \n",
    "    data11_21['filename'].append(filename)\n",
    "    data11_21['agreement1'].append(agreement1)\n",
    "    data11_21['agreement2'].append(agreement2)\n",
    "\n",
    "df_var1121_merged = pd.merge(left=df_var21_merged, right=pd.DataFrame(data11_21), left_on='filename', right_on='filename')"
   ]
  },
  {
   "cell_type": "code",
   "execution_count": 13,
   "metadata": {
    "collapsed": false
   },
   "outputs": [],
   "source": [
    "# Change order of columns\n",
    "cols = df_var1121_merged.columns.tolist()\n",
    "cols = cols[:3] + cols[-2:] + cols[-4:-2]\n",
    "df_var1121_merged = df_var1121_merged[cols]"
   ]
  },
  {
   "cell_type": "code",
   "execution_count": 14,
   "metadata": {
    "collapsed": true
   },
   "outputs": [],
   "source": [
    "data12_22 = {'filename': [], 'agreement1': [], 'agreement2': []}\n",
    "\n",
    "for index, row in enumerate(df_var22_merged.itertuples()):\n",
    "    filename = row.filename\n",
    "    res = re_filename.search(filename)\n",
    "    sent1 = '{}{}_00'.format(res.group(1), res.group(2))\n",
    "    sent2 = '{}{}_00'.format(res.group(1), res.group(3))\n",
    "    agreement1 = df_var12[df_var12['filename'] == sent1]['agreement'].values[0]\n",
    "    agreement2 = df_var12[df_var12['filename'] == sent2]['agreement'].values[0]\n",
    "#     print('{0} = {1} ({3}) + {2} ({4})'.format(filename, sent1, sent2, agreement1, agreement2))\n",
    "    \n",
    "    data12_22['filename'].append(filename)\n",
    "    data12_22['agreement1'].append(agreement1)\n",
    "    data12_22['agreement2'].append(agreement2)\n",
    "\n",
    "df_var1222_merged = pd.merge(left=df_var22_merged, right=pd.DataFrame(data12_22), left_on='filename', right_on='filename')"
   ]
  },
  {
   "cell_type": "code",
   "execution_count": 15,
   "metadata": {
    "collapsed": false
   },
   "outputs": [],
   "source": [
    "# Change order of columns\n",
    "cols = df_var1222_merged.columns.tolist()\n",
    "cols = cols[:3] + cols[-2:] + cols[-4:-2]\n",
    "df_var1222_merged = df_var1222_merged[cols]"
   ]
  },
  {
   "cell_type": "markdown",
   "metadata": {},
   "source": [
    "### Save"
   ]
  },
  {
   "cell_type": "code",
   "execution_count": null,
   "metadata": {
    "collapsed": true
   },
   "outputs": [],
   "source": [
    "df_var1121_merged.to_csv('../../data/var1121_merged.csv', sep=';', index=False, encoding='utf-8')\n",
    "df_var1222_merged.to_csv('../../data/var1222_merged.csv', sep=';', index=False, encoding='utf-8')"
   ]
  },
  {
   "cell_type": "markdown",
   "metadata": {},
   "source": [
    "### Trigrams"
   ]
  },
  {
   "cell_type": "code",
   "execution_count": 16,
   "metadata": {
    "collapsed": true
   },
   "outputs": [],
   "source": [
    "chars = sorted('pbszfvkg')\n",
    "# chars = 'g'"
   ]
  },
  {
   "cell_type": "code",
   "execution_count": 17,
   "metadata": {
    "collapsed": false
   },
   "outputs": [],
   "source": [
    "data_chars = {'char': [], 'mean': [], 'median': []}\n",
    "trigrams = set()\n",
    "\n",
    "def find(str, ch):\n",
    "    for i, ltr in enumerate(str):\n",
    "        if ltr == ch:\n",
    "            yield i\n",
    "\n",
    "def get_trigrams(words, char):\n",
    "    for word in words:\n",
    "        for index in find(word, char):\n",
    "            s_index = index - 1\n",
    "            e_index = index + 2\n",
    "            trigram = word[ max(0, s_index) : min(e_index, len(word))]\n",
    "                        \n",
    "            if s_index < 0:\n",
    "                yield '^' + trigram\n",
    "            elif e_index > len(word):\n",
    "                yield trigram + '$'\n",
    "                continue\n",
    "            else:  \n",
    "                yield trigram\n",
    "            \n",
    "for char in chars:\n",
    "    df_char = df_var1222_merged[df_var1222_merged['word1'].str.contains(char)]\n",
    "    \n",
    "    data_chars['char'].append(char)\n",
    "    data_chars['mean'].append(df_char['agreement1'].mean())\n",
    "    data_chars['median'].append(df_char['agreement1'].median())\n",
    "    \n",
    "    trigrams |= set(get_trigrams(df_char['word1'], char))\n",
    "    \n",
    "df_chars = pd.DataFrame(data_chars)"
   ]
  },
  {
   "cell_type": "code",
   "execution_count": 18,
   "metadata": {
    "collapsed": false
   },
   "outputs": [
    {
     "data": {
      "text/html": [
       "<div>\n",
       "<table border=\"1\" class=\"dataframe\">\n",
       "  <thead>\n",
       "    <tr style=\"text-align: right;\">\n",
       "      <th></th>\n",
       "      <th>char</th>\n",
       "      <th>mean</th>\n",
       "      <th>median</th>\n",
       "    </tr>\n",
       "  </thead>\n",
       "  <tbody>\n",
       "    <tr>\n",
       "      <th>0</th>\n",
       "      <td>b</td>\n",
       "      <td>0.842522</td>\n",
       "      <td>0.950</td>\n",
       "    </tr>\n",
       "    <tr>\n",
       "      <th>1</th>\n",
       "      <td>f</td>\n",
       "      <td>0.601000</td>\n",
       "      <td>0.740</td>\n",
       "    </tr>\n",
       "    <tr>\n",
       "      <th>2</th>\n",
       "      <td>g</td>\n",
       "      <td>0.792000</td>\n",
       "      <td>0.950</td>\n",
       "    </tr>\n",
       "    <tr>\n",
       "      <th>3</th>\n",
       "      <td>k</td>\n",
       "      <td>0.713721</td>\n",
       "      <td>0.840</td>\n",
       "    </tr>\n",
       "    <tr>\n",
       "      <th>4</th>\n",
       "      <td>p</td>\n",
       "      <td>0.642789</td>\n",
       "      <td>0.740</td>\n",
       "    </tr>\n",
       "    <tr>\n",
       "      <th>5</th>\n",
       "      <td>s</td>\n",
       "      <td>0.607292</td>\n",
       "      <td>0.740</td>\n",
       "    </tr>\n",
       "    <tr>\n",
       "      <th>6</th>\n",
       "      <td>v</td>\n",
       "      <td>0.669821</td>\n",
       "      <td>0.765</td>\n",
       "    </tr>\n",
       "    <tr>\n",
       "      <th>7</th>\n",
       "      <td>z</td>\n",
       "      <td>0.699630</td>\n",
       "      <td>0.790</td>\n",
       "    </tr>\n",
       "  </tbody>\n",
       "</table>\n",
       "</div>"
      ],
      "text/plain": [
       "  char      mean  median\n",
       "0    b  0.842522   0.950\n",
       "1    f  0.601000   0.740\n",
       "2    g  0.792000   0.950\n",
       "3    k  0.713721   0.840\n",
       "4    p  0.642789   0.740\n",
       "5    s  0.607292   0.740\n",
       "6    v  0.669821   0.765\n",
       "7    z  0.699630   0.790"
      ]
     },
     "execution_count": 18,
     "metadata": {},
     "output_type": "execute_result"
    }
   ],
   "source": [
    "df_chars"
   ]
  },
  {
   "cell_type": "code",
   "execution_count": 19,
   "metadata": {
    "collapsed": false
   },
   "outputs": [
    {
     "data": {
      "text/html": [
       "<div>\n",
       "<table border=\"1\" class=\"dataframe\">\n",
       "  <thead>\n",
       "    <tr style=\"text-align: right;\">\n",
       "      <th></th>\n",
       "      <th>count</th>\n",
       "      <th>mean</th>\n",
       "      <th>median</th>\n",
       "      <th>trigram</th>\n",
       "    </tr>\n",
       "  </thead>\n",
       "  <tbody>\n",
       "    <tr>\n",
       "      <th>0</th>\n",
       "      <td>14</td>\n",
       "      <td>0.602143</td>\n",
       "      <td>0.790</td>\n",
       "      <td>^ko</td>\n",
       "    </tr>\n",
       "    <tr>\n",
       "      <th>1</th>\n",
       "      <td>3</td>\n",
       "      <td>0.806667</td>\n",
       "      <td>0.840</td>\n",
       "      <td>^be</td>\n",
       "    </tr>\n",
       "    <tr>\n",
       "      <th>2</th>\n",
       "      <td>2</td>\n",
       "      <td>0.815000</td>\n",
       "      <td>0.815</td>\n",
       "      <td>eky</td>\n",
       "    </tr>\n",
       "    <tr>\n",
       "      <th>3</th>\n",
       "      <td>3</td>\n",
       "      <td>0.856667</td>\n",
       "      <td>0.840</td>\n",
       "      <td>^kr</td>\n",
       "    </tr>\n",
       "    <tr>\n",
       "      <th>4</th>\n",
       "      <td>2</td>\n",
       "      <td>0.395000</td>\n",
       "      <td>0.395</td>\n",
       "      <td>eva</td>\n",
       "    </tr>\n",
       "    <tr>\n",
       "      <th>5</th>\n",
       "      <td>11</td>\n",
       "      <td>0.932727</td>\n",
       "      <td>0.950</td>\n",
       "      <td>ozb</td>\n",
       "    </tr>\n",
       "    <tr>\n",
       "      <th>6</th>\n",
       "      <td>2</td>\n",
       "      <td>0.605000</td>\n",
       "      <td>0.605</td>\n",
       "      <td>ipo</td>\n",
       "    </tr>\n",
       "    <tr>\n",
       "      <th>7</th>\n",
       "      <td>8</td>\n",
       "      <td>0.935000</td>\n",
       "      <td>0.950</td>\n",
       "      <td>^sb</td>\n",
       "    </tr>\n",
       "    <tr>\n",
       "      <th>8</th>\n",
       "      <td>1</td>\n",
       "      <td>0.110000</td>\n",
       "      <td>0.110</td>\n",
       "      <td>ose</td>\n",
       "    </tr>\n",
       "    <tr>\n",
       "      <th>9</th>\n",
       "      <td>2</td>\n",
       "      <td>0.760000</td>\n",
       "      <td>0.760</td>\n",
       "      <td>sva</td>\n",
       "    </tr>\n",
       "    <tr>\n",
       "      <th>10</th>\n",
       "      <td>11</td>\n",
       "      <td>0.272727</td>\n",
       "      <td>0.370</td>\n",
       "      <td>ozp</td>\n",
       "    </tr>\n",
       "    <tr>\n",
       "      <th>11</th>\n",
       "      <td>7</td>\n",
       "      <td>0.932857</td>\n",
       "      <td>0.950</td>\n",
       "      <td>sbí</td>\n",
       "    </tr>\n",
       "    <tr>\n",
       "      <th>12</th>\n",
       "      <td>4</td>\n",
       "      <td>0.697500</td>\n",
       "      <td>0.765</td>\n",
       "      <td>^zp</td>\n",
       "    </tr>\n",
       "    <tr>\n",
       "      <th>13</th>\n",
       "      <td>2</td>\n",
       "      <td>0.605000</td>\n",
       "      <td>0.605</td>\n",
       "      <td>ypr</td>\n",
       "    </tr>\n",
       "    <tr>\n",
       "      <th>14</th>\n",
       "      <td>2</td>\n",
       "      <td>0.605000</td>\n",
       "      <td>0.605</td>\n",
       "      <td>abo</td>\n",
       "    </tr>\n",
       "    <tr>\n",
       "      <th>15</th>\n",
       "      <td>2</td>\n",
       "      <td>0.920000</td>\n",
       "      <td>0.920</td>\n",
       "      <td>eku</td>\n",
       "    </tr>\n",
       "    <tr>\n",
       "      <th>16</th>\n",
       "      <td>4</td>\n",
       "      <td>0.395000</td>\n",
       "      <td>0.315</td>\n",
       "      <td>ípi</td>\n",
       "    </tr>\n",
       "    <tr>\n",
       "      <th>17</th>\n",
       "      <td>7</td>\n",
       "      <td>0.932857</td>\n",
       "      <td>0.950</td>\n",
       "      <td>zbo</td>\n",
       "    </tr>\n",
       "    <tr>\n",
       "      <th>18</th>\n",
       "      <td>28</td>\n",
       "      <td>0.774286</td>\n",
       "      <td>0.950</td>\n",
       "      <td>^př</td>\n",
       "    </tr>\n",
       "    <tr>\n",
       "      <th>19</th>\n",
       "      <td>6</td>\n",
       "      <td>0.648333</td>\n",
       "      <td>0.740</td>\n",
       "      <td>^sm</td>\n",
       "    </tr>\n",
       "    <tr>\n",
       "      <th>20</th>\n",
       "      <td>2</td>\n",
       "      <td>0.760000</td>\n",
       "      <td>0.760</td>\n",
       "      <td>čku</td>\n",
       "    </tr>\n",
       "    <tr>\n",
       "      <th>21</th>\n",
       "      <td>7</td>\n",
       "      <td>0.932857</td>\n",
       "      <td>0.950</td>\n",
       "      <td>zbý</td>\n",
       "    </tr>\n",
       "    <tr>\n",
       "      <th>22</th>\n",
       "      <td>1</td>\n",
       "      <td>0.840000</td>\n",
       "      <td>0.840</td>\n",
       "      <td>^fe</td>\n",
       "    </tr>\n",
       "    <tr>\n",
       "      <th>23</th>\n",
       "      <td>3</td>\n",
       "      <td>0.753333</td>\n",
       "      <td>0.740</td>\n",
       "      <td>^pe</td>\n",
       "    </tr>\n",
       "    <tr>\n",
       "      <th>24</th>\n",
       "      <td>9</td>\n",
       "      <td>0.892222</td>\n",
       "      <td>0.890</td>\n",
       "      <td>abí</td>\n",
       "    </tr>\n",
       "    <tr>\n",
       "      <th>25</th>\n",
       "      <td>1</td>\n",
       "      <td>1.000000</td>\n",
       "      <td>1.000</td>\n",
       "      <td>^fi</td>\n",
       "    </tr>\n",
       "    <tr>\n",
       "      <th>26</th>\n",
       "      <td>1</td>\n",
       "      <td>0.470000</td>\n",
       "      <td>0.470</td>\n",
       "      <td>upl</td>\n",
       "    </tr>\n",
       "    <tr>\n",
       "      <th>27</th>\n",
       "      <td>2</td>\n",
       "      <td>0.740000</td>\n",
       "      <td>0.740</td>\n",
       "      <td>eků</td>\n",
       "    </tr>\n",
       "    <tr>\n",
       "      <th>28</th>\n",
       "      <td>7</td>\n",
       "      <td>0.755714</td>\n",
       "      <td>0.840</td>\n",
       "      <td>^su</td>\n",
       "    </tr>\n",
       "    <tr>\n",
       "      <th>29</th>\n",
       "      <td>2</td>\n",
       "      <td>0.710000</td>\n",
       "      <td>0.710</td>\n",
       "      <td>áva</td>\n",
       "    </tr>\n",
       "    <tr>\n",
       "      <th>...</th>\n",
       "      <td>...</td>\n",
       "      <td>...</td>\n",
       "      <td>...</td>\n",
       "      <td>...</td>\n",
       "    </tr>\n",
       "    <tr>\n",
       "      <th>123</th>\n",
       "      <td>4</td>\n",
       "      <td>0.817500</td>\n",
       "      <td>0.790</td>\n",
       "      <td>áka</td>\n",
       "    </tr>\n",
       "    <tr>\n",
       "      <th>124</th>\n",
       "      <td>1</td>\n",
       "      <td>0.790000</td>\n",
       "      <td>0.790</td>\n",
       "      <td>ísn</td>\n",
       "    </tr>\n",
       "    <tr>\n",
       "      <th>125</th>\n",
       "      <td>1</td>\n",
       "      <td>0.000000</td>\n",
       "      <td>0.000</td>\n",
       "      <td>usl</td>\n",
       "    </tr>\n",
       "    <tr>\n",
       "      <th>126</th>\n",
       "      <td>1</td>\n",
       "      <td>1.000000</td>\n",
       "      <td>1.000</td>\n",
       "      <td>íza</td>\n",
       "    </tr>\n",
       "    <tr>\n",
       "      <th>127</th>\n",
       "      <td>1</td>\n",
       "      <td>0.000000</td>\n",
       "      <td>0.000</td>\n",
       "      <td>zpi</td>\n",
       "    </tr>\n",
       "    <tr>\n",
       "      <th>128</th>\n",
       "      <td>3</td>\n",
       "      <td>0.126667</td>\n",
       "      <td>0.110</td>\n",
       "      <td>aso</td>\n",
       "    </tr>\n",
       "    <tr>\n",
       "      <th>129</th>\n",
       "      <td>5</td>\n",
       "      <td>0.790000</td>\n",
       "      <td>0.840</td>\n",
       "      <td>ábo</td>\n",
       "    </tr>\n",
       "    <tr>\n",
       "      <th>130</th>\n",
       "      <td>2</td>\n",
       "      <td>0.500000</td>\n",
       "      <td>0.500</td>\n",
       "      <td>osí</td>\n",
       "    </tr>\n",
       "    <tr>\n",
       "      <th>131</th>\n",
       "      <td>5</td>\n",
       "      <td>0.886000</td>\n",
       "      <td>0.950</td>\n",
       "      <td>^vl</td>\n",
       "    </tr>\n",
       "    <tr>\n",
       "      <th>132</th>\n",
       "      <td>12</td>\n",
       "      <td>0.706667</td>\n",
       "      <td>0.870</td>\n",
       "      <td>^vy</td>\n",
       "    </tr>\n",
       "    <tr>\n",
       "      <th>133</th>\n",
       "      <td>8</td>\n",
       "      <td>0.480000</td>\n",
       "      <td>0.555</td>\n",
       "      <td>^vz</td>\n",
       "    </tr>\n",
       "    <tr>\n",
       "      <th>134</th>\n",
       "      <td>5</td>\n",
       "      <td>0.758000</td>\n",
       "      <td>0.790</td>\n",
       "      <td>ápo</td>\n",
       "    </tr>\n",
       "    <tr>\n",
       "      <th>135</th>\n",
       "      <td>3</td>\n",
       "      <td>0.126667</td>\n",
       "      <td>0.110</td>\n",
       "      <td>afa</td>\n",
       "    </tr>\n",
       "    <tr>\n",
       "      <th>136</th>\n",
       "      <td>2</td>\n",
       "      <td>0.475000</td>\n",
       "      <td>0.475</td>\n",
       "      <td>apo</td>\n",
       "    </tr>\n",
       "    <tr>\n",
       "      <th>137</th>\n",
       "      <td>1</td>\n",
       "      <td>0.740000</td>\n",
       "      <td>0.740</td>\n",
       "      <td>abi</td>\n",
       "    </tr>\n",
       "    <tr>\n",
       "      <th>138</th>\n",
       "      <td>1</td>\n",
       "      <td>0.740000</td>\n",
       "      <td>0.740</td>\n",
       "      <td>ubá</td>\n",
       "    </tr>\n",
       "    <tr>\n",
       "      <th>139</th>\n",
       "      <td>1</td>\n",
       "      <td>1.000000</td>\n",
       "      <td>1.000</td>\n",
       "      <td>ibý</td>\n",
       "    </tr>\n",
       "    <tr>\n",
       "      <th>140</th>\n",
       "      <td>4</td>\n",
       "      <td>0.645000</td>\n",
       "      <td>0.740</td>\n",
       "      <td>ěvo</td>\n",
       "    </tr>\n",
       "    <tr>\n",
       "      <th>141</th>\n",
       "      <td>1</td>\n",
       "      <td>1.000000</td>\n",
       "      <td>1.000</td>\n",
       "      <td>ubl</td>\n",
       "    </tr>\n",
       "    <tr>\n",
       "      <th>142</th>\n",
       "      <td>2</td>\n",
       "      <td>0.530000</td>\n",
       "      <td>0.530</td>\n",
       "      <td>ebí</td>\n",
       "    </tr>\n",
       "    <tr>\n",
       "      <th>143</th>\n",
       "      <td>1</td>\n",
       "      <td>0.050000</td>\n",
       "      <td>0.050</td>\n",
       "      <td>ísa</td>\n",
       "    </tr>\n",
       "    <tr>\n",
       "      <th>144</th>\n",
       "      <td>7</td>\n",
       "      <td>0.437143</td>\n",
       "      <td>0.370</td>\n",
       "      <td>^zu</td>\n",
       "    </tr>\n",
       "    <tr>\n",
       "      <th>145</th>\n",
       "      <td>2</td>\n",
       "      <td>0.555000</td>\n",
       "      <td>0.555</td>\n",
       "      <td>^bi</td>\n",
       "    </tr>\n",
       "    <tr>\n",
       "      <th>146</th>\n",
       "      <td>14</td>\n",
       "      <td>0.503571</td>\n",
       "      <td>0.500</td>\n",
       "      <td>zpí</td>\n",
       "    </tr>\n",
       "    <tr>\n",
       "      <th>147</th>\n",
       "      <td>44</td>\n",
       "      <td>0.631591</td>\n",
       "      <td>0.710</td>\n",
       "      <td>ova</td>\n",
       "    </tr>\n",
       "    <tr>\n",
       "      <th>148</th>\n",
       "      <td>1</td>\n",
       "      <td>0.950000</td>\n",
       "      <td>0.950</td>\n",
       "      <td>evu</td>\n",
       "    </tr>\n",
       "    <tr>\n",
       "      <th>149</th>\n",
       "      <td>4</td>\n",
       "      <td>0.765000</td>\n",
       "      <td>0.790</td>\n",
       "      <td>evo</td>\n",
       "    </tr>\n",
       "    <tr>\n",
       "      <th>150</th>\n",
       "      <td>2</td>\n",
       "      <td>0.555000</td>\n",
       "      <td>0.555</td>\n",
       "      <td>^pi</td>\n",
       "    </tr>\n",
       "    <tr>\n",
       "      <th>151</th>\n",
       "      <td>1</td>\n",
       "      <td>0.210000</td>\n",
       "      <td>0.210</td>\n",
       "      <td>osu</td>\n",
       "    </tr>\n",
       "    <tr>\n",
       "      <th>152</th>\n",
       "      <td>3</td>\n",
       "      <td>0.366667</td>\n",
       "      <td>0.370</td>\n",
       "      <td>ezp</td>\n",
       "    </tr>\n",
       "  </tbody>\n",
       "</table>\n",
       "<p>153 rows × 4 columns</p>\n",
       "</div>"
      ],
      "text/plain": [
       "     count      mean  median trigram\n",
       "0       14  0.602143   0.790     ^ko\n",
       "1        3  0.806667   0.840     ^be\n",
       "2        2  0.815000   0.815     eky\n",
       "3        3  0.856667   0.840     ^kr\n",
       "4        2  0.395000   0.395     eva\n",
       "5       11  0.932727   0.950     ozb\n",
       "6        2  0.605000   0.605     ipo\n",
       "7        8  0.935000   0.950     ^sb\n",
       "8        1  0.110000   0.110     ose\n",
       "9        2  0.760000   0.760     sva\n",
       "10      11  0.272727   0.370     ozp\n",
       "11       7  0.932857   0.950     sbí\n",
       "12       4  0.697500   0.765     ^zp\n",
       "13       2  0.605000   0.605     ypr\n",
       "14       2  0.605000   0.605     abo\n",
       "15       2  0.920000   0.920     eku\n",
       "16       4  0.395000   0.315     ípi\n",
       "17       7  0.932857   0.950     zbo\n",
       "18      28  0.774286   0.950     ^př\n",
       "19       6  0.648333   0.740     ^sm\n",
       "20       2  0.760000   0.760     čku\n",
       "21       7  0.932857   0.950     zbý\n",
       "22       1  0.840000   0.840     ^fe\n",
       "23       3  0.753333   0.740     ^pe\n",
       "24       9  0.892222   0.890     abí\n",
       "25       1  1.000000   1.000     ^fi\n",
       "26       1  0.470000   0.470     upl\n",
       "27       2  0.740000   0.740     eků\n",
       "28       7  0.755714   0.840     ^su\n",
       "29       2  0.710000   0.710     áva\n",
       "..     ...       ...     ...     ...\n",
       "123      4  0.817500   0.790     áka\n",
       "124      1  0.790000   0.790     ísn\n",
       "125      1  0.000000   0.000     usl\n",
       "126      1  1.000000   1.000     íza\n",
       "127      1  0.000000   0.000     zpi\n",
       "128      3  0.126667   0.110     aso\n",
       "129      5  0.790000   0.840     ábo\n",
       "130      2  0.500000   0.500     osí\n",
       "131      5  0.886000   0.950     ^vl\n",
       "132     12  0.706667   0.870     ^vy\n",
       "133      8  0.480000   0.555     ^vz\n",
       "134      5  0.758000   0.790     ápo\n",
       "135      3  0.126667   0.110     afa\n",
       "136      2  0.475000   0.475     apo\n",
       "137      1  0.740000   0.740     abi\n",
       "138      1  0.740000   0.740     ubá\n",
       "139      1  1.000000   1.000     ibý\n",
       "140      4  0.645000   0.740     ěvo\n",
       "141      1  1.000000   1.000     ubl\n",
       "142      2  0.530000   0.530     ebí\n",
       "143      1  0.050000   0.050     ísa\n",
       "144      7  0.437143   0.370     ^zu\n",
       "145      2  0.555000   0.555     ^bi\n",
       "146     14  0.503571   0.500     zpí\n",
       "147     44  0.631591   0.710     ova\n",
       "148      1  0.950000   0.950     evu\n",
       "149      4  0.765000   0.790     evo\n",
       "150      2  0.555000   0.555     ^pi\n",
       "151      1  0.210000   0.210     osu\n",
       "152      3  0.366667   0.370     ezp\n",
       "\n",
       "[153 rows x 4 columns]"
      ]
     },
     "execution_count": 19,
     "metadata": {},
     "output_type": "execute_result"
    }
   ],
   "source": [
    "data_trigrams = {'trigram': [], 'count': [], 'mean': [], 'median': []}\n",
    "\n",
    "for trigram in trigrams:\n",
    "    df_trigram = df_var1222_merged[df_var1222_merged['word1'].str.contains(trigram)]\n",
    "    \n",
    "    data_trigrams['trigram'].append(trigram)\n",
    "    data_trigrams['count'].append(len(df_trigram.index))\n",
    "    data_trigrams['mean'].append(df_trigram['agreement1'].mean())\n",
    "    data_trigrams['median'].append(df_trigram['agreement1'].median())\n",
    "\n",
    "df_trigrams = pd.DataFrame(data_trigrams)\n",
    "df_trigrams"
   ]
  },
  {
   "cell_type": "code",
   "execution_count": 35,
   "metadata": {
    "collapsed": true
   },
   "outputs": [],
   "source": [
    "df_chars.to_csv('../../data/stats_chars.csv', sep=';', index=False, encoding='utf-8')\n",
    "df_trigrams.to_csv('../../data/stats_trigrams.csv', sep=';', index=False, encoding='utf-8')"
   ]
  },
  {
   "cell_type": "markdown",
   "metadata": {},
   "source": [
    "## Histogramy"
   ]
  },
  {
   "cell_type": "code",
   "execution_count": 20,
   "metadata": {
    "collapsed": false
   },
   "outputs": [
    {
     "name": "stdout",
     "output_type": "stream",
     "text": [
      "Mean agreement: 0.7042\n",
      "Median agreement: 0.7600\n"
     ]
    },
    {
     "data": {
      "text/plain": [
       "<matplotlib.axes._subplots.AxesSubplot at 0x214034cec50>"
      ]
     },
     "execution_count": 20,
     "metadata": {},
     "output_type": "execute_result"
    },
    {
     "data": {
      "image/png": "[encoded data removed]",
      "text/plain": [
       "<matplotlib.figure.Figure at 0x214034d1d30>"
      ]
     },
     "metadata": {},
     "output_type": "display_data"
    }
   ],
   "source": [
    "print(\"Mean agreement: {:.4f}\".format(df_var11['agreement'].mean()))\n",
    "print(\"Median agreement: {:.4f}\".format(df_var11['agreement'].median()))\n",
    "df_var11['agreement'].hist()"
   ]
  },
  {
   "cell_type": "code",
   "execution_count": 21,
   "metadata": {
    "collapsed": false
   },
   "outputs": [
    {
     "name": "stdout",
     "output_type": "stream",
     "text": [
      "Mean agreement: 0.7046\n",
      "Median agreement: 0.7900\n"
     ]
    },
    {
     "data": {
      "text/plain": [
       "<matplotlib.axes._subplots.AxesSubplot at 0x21403469390>"
      ]
     },
     "execution_count": 21,
     "metadata": {},
     "output_type": "execute_result"
    },
    {
     "data": {
      "image/png": "[encoded data removed]",
      "text/plain": [
       "<matplotlib.figure.Figure at 0x21403455710>"
      ]
     },
     "metadata": {},
     "output_type": "display_data"
    }
   ],
   "source": [
    "print(\"Mean agreement: {:.4f}\".format(df_var12['agreement'].mean()))\n",
    "print(\"Median agreement: {:.4f}\".format(df_var12['agreement'].median()))\n",
    "df_var12['agreement'].hist()"
   ]
  },
  {
   "cell_type": "code",
   "execution_count": 22,
   "metadata": {
    "collapsed": false
   },
   "outputs": [
    {
     "name": "stdout",
     "output_type": "stream",
     "text": [
      "Mean agreement: 0.6549\n",
      "Median agreement: 0.7100\n"
     ]
    },
    {
     "data": {
      "text/plain": [
       "<matplotlib.axes._subplots.AxesSubplot at 0x21400e466d8>"
      ]
     },
     "execution_count": 22,
     "metadata": {},
     "output_type": "execute_result"
    },
    {
     "data": {
      "image/png": "[encoded data removed]",
      "text/plain": [
       "<matplotlib.figure.Figure at 0x214037e1630>"
      ]
     },
     "metadata": {},
     "output_type": "display_data"
    }
   ],
   "source": [
    "print(\"Mean agreement: {:.4f}\".format(df_var21['agreement'].mean()))\n",
    "print(\"Median agreement: {:.4f}\".format(df_var21['agreement'].median()))\n",
    "df_var21['agreement'].hist()"
   ]
  },
  {
   "cell_type": "code",
   "execution_count": 23,
   "metadata": {
    "collapsed": false
   },
   "outputs": [
    {
     "name": "stdout",
     "output_type": "stream",
     "text": [
      "Mean agreement: 0.6627\n",
      "Median agreement: 0.7500\n"
     ]
    },
    {
     "data": {
      "text/plain": [
       "<matplotlib.axes._subplots.AxesSubplot at 0x214039177f0>"
      ]
     },
     "execution_count": 23,
     "metadata": {},
     "output_type": "execute_result"
    },
    {
     "data": {
      "image/png": "[encoded data removed]",
      "text/plain": [
       "<matplotlib.figure.Figure at 0x214034d1e80>"
      ]
     },
     "metadata": {},
     "output_type": "display_data"
    }
   ],
   "source": [
    "print(\"Mean agreement: {:.4f}\".format(df_var22['agreement'].mean()))\n",
    "print(\"Median agreement: {:.4f}\".format(df_var22['agreement'].median()))\n",
    "df_var22['agreement'].hist()"
   ]
  },
  {
   "cell_type": "code",
   "execution_count": null,
   "metadata": {
    "collapsed": true
   },
   "outputs": [],
   "source": []
  }
 ],
 "metadata": {
  "anaconda-cloud": {},
  "kernelspec": {
   "display_name": "Python [conda env:phd-thesis-env]",
   "language": "python",
   "name": "conda-env-phd-thesis-env-py"
  },
  "language_info": {
   "codemirror_mode": {
    "name": "ipython",
    "version": 3
   },
   "file_extension": ".py",
   "mimetype": "text/x-python",
   "name": "python",
   "nbconvert_exporter": "python",
   "pygments_lexer": "ipython3",
   "version": "3.5.3"
  }
 },
 "nbformat": 4,
 "nbformat_minor": 1
}
