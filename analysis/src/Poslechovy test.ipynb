{
 "cells": [
  {
   "cell_type": "code",
   "execution_count": 1,
   "metadata": {
    "collapsed": false
   },
   "outputs": [],
   "source": [
    "%matplotlib inline\n",
    "import matplotlib.pyplot as plt\n",
    "import pandas as pd\n",
    "import re"
   ]
  },
  {
   "cell_type": "code",
   "execution_count": 2,
   "metadata": {
    "collapsed": true
   },
   "outputs": [],
   "source": [
    "path_hodnoceni = '../../data/koutenska_slova_hodnoceni.csv'\n",
    "path_result_11 = '../../data/results_PSt_varianta1.csv'\n",
    "path_result_12 = '../../data/results_PSt_varianta1_all_finished.csv'\n",
    "path_result_21 = '../../data/results_PSt_varianta2.csv'\n",
    "path_result_22 = '../../data/results_PSt_varianta2_all_finished.csv'"
   ]
  },
  {
   "cell_type": "code",
   "execution_count": 3,
   "metadata": {
    "collapsed": false
   },
   "outputs": [],
   "source": [
    "df_hodnoceni = pd.read_csv(path_hodnoceni, delimiter=';')\n",
    "df_var11 = pd.read_csv(path_result_11, delimiter=';')\n",
    "df_var12 = pd.read_csv(path_result_12, delimiter=';')\n",
    "df_var21 = pd.read_csv(path_result_21, delimiter=';')\n",
    "df_var22 = pd.read_csv(path_result_22, delimiter=';')"
   ]
  },
  {
   "cell_type": "markdown",
   "metadata": {},
   "source": [
    "## Varianta 1 - Merge"
   ]
  },
  {
   "cell_type": "code",
   "execution_count": 4,
   "metadata": {
    "collapsed": true
   },
   "outputs": [],
   "source": [
    "df_var11_merged = pd.merge(left=df_hodnoceni, right=df_var11, left_on='filename', right_on='filename')\n",
    "df_var12_merged = pd.merge(left=df_hodnoceni, right=df_var12, left_on='filename', right_on='filename')"
   ]
  },
  {
   "cell_type": "code",
   "execution_count": null,
   "metadata": {
    "collapsed": false
   },
   "outputs": [],
   "source": [
    "df_var11_merged.to_csv('../../data/var11_merged.csv', sep=';', index=False, encoding='utf-8')\n",
    "df_var12_merged.to_csv('../../data/var12_merged.csv', sep=';', index=False, encoding='utf-8')"
   ]
  },
  {
   "cell_type": "markdown",
   "metadata": {},
   "source": [
    "## Varianta 1 - Stats"
   ]
  },
  {
   "cell_type": "code",
   "execution_count": 5,
   "metadata": {
    "collapsed": false
   },
   "outputs": [
    {
     "name": "stdout",
     "output_type": "stream",
     "text": [
      "OK: mean 0.772 (0.246) median 0.850\n",
      "BAD: mean 0.426 (0.272) median 0.500\n",
      "QUESTIONABLE: mean 0.625 (0.282) median 0.740\n"
     ]
    }
   ],
   "source": [
    "df_var11_ok = df_var11_merged[df_var11_merged['Typ'] == 'OK']\n",
    "df_var11_bad = df_var11_merged[df_var11_merged['Typ'] == 'BAD']\n",
    "df_var11_questionable = df_var11_merged[df_var11_merged['Typ'] == 'QUESTIONABLE']\n",
    "\n",
    "print('OK: mean {:.3f} ({:.3f}) median {:.3f}'.format(\n",
    "        df_var11_ok['agreement'].mean(), \n",
    "        df_var11_ok['agreement'].std(), \n",
    "        df_var11_ok['agreement'].median()))\n",
    "print('BAD: mean {:.3f} ({:.3f}) median {:.3f}'.format(\n",
    "        df_var11_bad['agreement'].mean(),\n",
    "        df_var11_bad['agreement'].std(), \n",
    "        df_var11_bad['agreement'].median()))\n",
    "print('QUESTIONABLE: mean {:.3f} ({:.3f}) median {:.3f}'.format(\n",
    "        df_var11_questionable['agreement'].mean(), \n",
    "        df_var11_questionable['agreement'].std(), \n",
    "        df_var11_questionable['agreement'].median()))"
   ]
  },
  {
   "cell_type": "code",
   "execution_count": 6,
   "metadata": {
    "collapsed": false
   },
   "outputs": [
    {
     "name": "stdout",
     "output_type": "stream",
     "text": [
      "OK: mean 0.773 (0.247) median 0.840\n",
      "BAD: mean 0.423 (0.278) median 0.530\n",
      "QUESTIONABLE: mean 0.627 (0.282) median 0.740\n"
     ]
    }
   ],
   "source": [
    "df_var12_ok = df_var12_merged[df_var12_merged['Typ'] == 'OK']\n",
    "df_var12_bad = df_var12_merged[df_var12_merged['Typ'] == 'BAD']\n",
    "df_var12_questionable = df_var12_merged[df_var12_merged['Typ'] == 'QUESTIONABLE']\n",
    "\n",
    "print('OK: mean {:.3f} ({:.3f}) median {:.3f}'.format(\n",
    "        df_var12_ok['agreement'].mean(), \n",
    "        df_var12_ok['agreement'].std(), \n",
    "        df_var12_ok['agreement'].median()))\n",
    "print('BAD: mean {:.3f} ({:.3f}) median {:.3f}'.format(\n",
    "        df_var12_bad['agreement'].mean(),\n",
    "        df_var12_bad['agreement'].std(),\n",
    "        df_var12_bad['agreement'].median()))\n",
    "print('QUESTIONABLE: mean {:.3f} ({:.3f}) median {:.3f}'.format(\n",
    "        df_var12_questionable['agreement'].mean(),\n",
    "        df_var12_questionable['agreement'].std(),\n",
    "        df_var12_questionable['agreement'].median()))"
   ]
  },
  {
   "cell_type": "markdown",
   "metadata": {},
   "source": [
    "## Varianta 2 - Merge"
   ]
  },
  {
   "cell_type": "code",
   "execution_count": 7,
   "metadata": {
    "collapsed": true
   },
   "outputs": [],
   "source": [
    "re_filename = re.compile('(sent)(\\d+)_(\\d+)')"
   ]
  },
  {
   "cell_type": "code",
   "execution_count": 25,
   "metadata": {
    "collapsed": false
   },
   "outputs": [],
   "source": [
    "data21 = {'filename': [], 'word1': [], 'word2': [], 'index': []}\n",
    "\n",
    "for row in df_var21.itertuples():\n",
    "    filename = row.filename\n",
    "    res = re_filename.search(filename)\n",
    "    index = hash(tuple(sorted([int(res.group(2)), int(res.group(3))])))\n",
    "#     abs(hash(matrix.tostring())) % (10 ** 8)\n",
    "    sent1 = '{}{}_00'.format(res.group(1), res.group(2))\n",
    "    sent2 = '{}{}_00'.format(res.group(1), res.group(3))\n",
    "    word1 = df_hodnoceni[df_hodnoceni['filename'] == sent1]['Slovo'].values[0]\n",
    "    word2 = df_hodnoceni[df_hodnoceni['filename'] == sent2]['Slovo'].values[0]\n",
    "    # print('{0} = {1} ({3}) + {2} ({4})'.format(filename, sent1, sent2, word1, word2))\n",
    "    \n",
    "    data21['filename'].append(filename)\n",
    "    data21['word1'].append(word1)\n",
    "    data21['word2'].append(word2)\n",
    "    data21['index'].append(index)\n",
    "\n",
    "df_var21_merged = pd.merge(left=df_var21, right=pd.DataFrame(data21), left_on='filename', right_on='filename')"
   ]
  },
  {
   "cell_type": "code",
   "execution_count": 26,
   "metadata": {
    "collapsed": false
   },
   "outputs": [],
   "source": [
    "# Change order of columns\n",
    "cols = df_var21_merged.columns.tolist()\n",
    "cols = cols[:1] + cols[-2:] + cols[1:-3] + cols[-3: -2]\n",
    "df_var21_merged = df_var21_merged[cols]\n",
    "# df_var21_merged"
   ]
  },
  {
   "cell_type": "code",
   "execution_count": 27,
   "metadata": {
    "collapsed": true
   },
   "outputs": [],
   "source": [
    "data22 = {'filename': [], 'word1': [], 'word2': [], 'index': []}\n",
    "\n",
    "for row in df_var22.itertuples():\n",
    "    filename = row.filename\n",
    "    res = re_filename.search(filename)\n",
    "    index = hash(tuple(sorted([int(res.group(2)), int(res.group(3))])))\n",
    "    sent1 = '{}{}_00'.format(res.group(1), res.group(2))\n",
    "    sent2 = '{}{}_00'.format(res.group(1), res.group(3))\n",
    "    word1 = df_hodnoceni[df_hodnoceni['filename'] == sent1]['Slovo'].values[0]\n",
    "    word2 = df_hodnoceni[df_hodnoceni['filename'] == sent2]['Slovo'].values[0]\n",
    "    # print('{0} = {1} ({3}) + {2} ({4})'.format(filename, sent1, sent2, word1, word2))\n",
    "    \n",
    "    data22['filename'].append(filename)\n",
    "    data22['word1'].append(word1)\n",
    "    data22['word2'].append(word2)\n",
    "    data22['index'].append(index)\n",
    "\n",
    "df_var22_merged = pd.merge(left=df_var22, right=pd.DataFrame(data22), left_on='filename', right_on='filename')"
   ]
  },
  {
   "cell_type": "code",
   "execution_count": 28,
   "metadata": {
    "collapsed": false
   },
   "outputs": [],
   "source": [
    "# Change order of columns\n",
    "cols = df_var22_merged.columns.tolist()\n",
    "cols = cols[:1] + cols[-2:] + cols[1:-3] + cols[-3: -2]\n",
    "df_var22_merged = df_var22_merged[cols]\n",
    "# df_var22_merged"
   ]
  },
  {
   "cell_type": "markdown",
   "metadata": {},
   "source": [
    "### Save"
   ]
  },
  {
   "cell_type": "code",
   "execution_count": 29,
   "metadata": {
    "collapsed": true
   },
   "outputs": [],
   "source": [
    "df_var21_merged.to_csv('../../data/var21_merged.csv', sep=';', index=False, encoding='utf-8')\n",
    "df_var22_merged.to_csv('../../data/var22_merged.csv', sep=';', index=False, encoding='utf-8')"
   ]
  },
  {
   "cell_type": "markdown",
   "metadata": {},
   "source": [
    "## Variana 1 + 2 - merge"
   ]
  },
  {
   "cell_type": "code",
   "execution_count": 30,
   "metadata": {
    "collapsed": false
   },
   "outputs": [],
   "source": [
    "data11_21 = {'filename': [], 'agreement1': [], 'agreement2': []}\n",
    "\n",
    "for index, row in enumerate(df_var21_merged.itertuples()):\n",
    "    filename = row.filename\n",
    "    res = re_filename.search(filename)\n",
    "    sent1 = '{}{}_00'.format(res.group(1), res.group(2))\n",
    "    sent2 = '{}{}_00'.format(res.group(1), res.group(3))\n",
    "    agreement1 = df_var11[df_var11['filename'] == sent1]['agreement'].values[0]\n",
    "    agreement2 = df_var11[df_var11['filename'] == sent2]['agreement'].values[0]\n",
    "#     print('{0} = {1} ({3}) + {2} ({4})'.format(filename, sent1, sent2, agreement1, agreement2))\n",
    "    \n",
    "    data11_21['filename'].append(filename)\n",
    "    data11_21['agreement1'].append(agreement1)\n",
    "    data11_21['agreement2'].append(agreement2)\n",
    "\n",
    "df_var1121_merged = pd.merge(left=df_var21_merged, right=pd.DataFrame(data11_21), left_on='filename', right_on='filename')"
   ]
  },
  {
   "cell_type": "code",
   "execution_count": 31,
   "metadata": {
    "collapsed": false
   },
   "outputs": [],
   "source": [
    "# Change order of columns\n",
    "cols = df_var1121_merged.columns.tolist()\n",
    "cols = cols[:3] + cols[-2:] + cols[-4:-2]\n",
    "df_var1121_merged = df_var1121_merged[cols]"
   ]
  },
  {
   "cell_type": "code",
   "execution_count": 32,
   "metadata": {
    "collapsed": true
   },
   "outputs": [],
   "source": [
    "data12_22 = {'filename': [], 'agreement1': [], 'agreement2': []}\n",
    "\n",
    "for index, row in enumerate(df_var22_merged.itertuples()):\n",
    "    filename = row.filename\n",
    "    res = re_filename.search(filename)\n",
    "    sent1 = '{}{}_00'.format(res.group(1), res.group(2))\n",
    "    sent2 = '{}{}_00'.format(res.group(1), res.group(3))\n",
    "    agreement1 = df_var12[df_var12['filename'] == sent1]['agreement'].values[0]\n",
    "    agreement2 = df_var12[df_var12['filename'] == sent2]['agreement'].values[0]\n",
    "#     print('{0} = {1} ({3}) + {2} ({4})'.format(filename, sent1, sent2, agreement1, agreement2))\n",
    "    \n",
    "    data12_22['filename'].append(filename)\n",
    "    data12_22['agreement1'].append(agreement1)\n",
    "    data12_22['agreement2'].append(agreement2)\n",
    "\n",
    "df_var1222_merged = pd.merge(left=df_var22_merged, right=pd.DataFrame(data12_22), left_on='filename', right_on='filename')"
   ]
  },
  {
   "cell_type": "code",
   "execution_count": 33,
   "metadata": {
    "collapsed": false
   },
   "outputs": [],
   "source": [
    "# Change order of columns\n",
    "cols = df_var1222_merged.columns.tolist()\n",
    "cols = cols[:3] + cols[-2:] + cols[-4:-2]\n",
    "df_var1222_merged = df_var1222_merged[cols]"
   ]
  },
  {
   "cell_type": "markdown",
   "metadata": {},
   "source": [
    "### Save"
   ]
  },
  {
   "cell_type": "code",
   "execution_count": 34,
   "metadata": {
    "collapsed": true
   },
   "outputs": [],
   "source": [
    "df_var1121_merged.to_csv('../../data/var1121_merged.csv', sep=';', index=False, encoding='utf-8')\n",
    "df_var1222_merged.to_csv('../../data/var1222_merged.csv', sep=';', index=False, encoding='utf-8')"
   ]
  },
  {
   "cell_type": "markdown",
   "metadata": {},
   "source": [
    "### Trigrams"
   ]
  },
  {
   "cell_type": "code",
   "execution_count": null,
   "metadata": {
    "collapsed": true
   },
   "outputs": [],
   "source": []
  },
  {
   "cell_type": "markdown",
   "metadata": {},
   "source": [
    "## Histogramy"
   ]
  },
  {
   "cell_type": "code",
   "execution_count": 7,
   "metadata": {
    "collapsed": false
   },
   "outputs": [
    {
     "name": "stdout",
     "output_type": "stream",
     "text": [
      "Mean agreement: 0.7042006269592476\n"
     ]
    },
    {
     "data": {
      "text/plain": [
       "<matplotlib.axes._subplots.AxesSubplot at 0x295b746be80>"
      ]
     },
     "execution_count": 7,
     "metadata": {},
     "output_type": "execute_result"
    },
    {
     "data": {
      "image/png": "[encoded data removed]",
      "text/plain": [
       "<matplotlib.figure.Figure at 0x295b75d9240>"
      ]
     },
     "metadata": {},
     "output_type": "display_data"
    }
   ],
   "source": [
    "print(\"Mean agreement: {}\".format(df_var11['agreement'].mean()))\n",
    "df_var11['agreement'].hist()"
   ]
  },
  {
   "cell_type": "code",
   "execution_count": 8,
   "metadata": {
    "collapsed": false
   },
   "outputs": [
    {
     "name": "stdout",
     "output_type": "stream",
     "text": [
      "Mean agreement: 0.7046394984326019\n"
     ]
    },
    {
     "data": {
      "text/plain": [
       "<matplotlib.axes._subplots.AxesSubplot at 0x295ba24fd68>"
      ]
     },
     "execution_count": 8,
     "metadata": {},
     "output_type": "execute_result"
    },
    {
     "data": {
      "image/png": "[encoded data removed]",
      "text/plain": [
       "<matplotlib.figure.Figure at 0x295b741bc88>"
      ]
     },
     "metadata": {},
     "output_type": "display_data"
    }
   ],
   "source": [
    "print(\"Mean agreement: {}\".format(df_var12['agreement'].mean()))\n",
    "df_var12['agreement'].hist()"
   ]
  },
  {
   "cell_type": "code",
   "execution_count": 9,
   "metadata": {
    "collapsed": false
   },
   "outputs": [
    {
     "name": "stdout",
     "output_type": "stream",
     "text": [
      "Mean agreement: 0.6549397590361445\n"
     ]
    },
    {
     "data": {
      "text/plain": [
       "<matplotlib.axes._subplots.AxesSubplot at 0x295ba7120b8>"
      ]
     },
     "execution_count": 9,
     "metadata": {},
     "output_type": "execute_result"
    },
    {
     "data": {
      "image/png": "[encoded data removed]",
      "text/plain": [
       "<matplotlib.figure.Figure at 0x295ba71df60>"
      ]
     },
     "metadata": {},
     "output_type": "display_data"
    }
   ],
   "source": [
    "print(\"Mean agreement: {}\".format(df_var21['agreement'].mean()))\n",
    "print(\"Median agreement: {}\".format(df_var21['agreement'].median()))\n",
    "df_var21['agreement'].hist()"
   ]
  },
  {
   "cell_type": "code",
   "execution_count": 11,
   "metadata": {
    "collapsed": false
   },
   "outputs": [
    {
     "name": "stdout",
     "output_type": "stream",
     "text": [
      "Mean agreement: 0.662710843373494\n",
      "Median agreement: 0.75\n"
     ]
    },
    {
     "data": {
      "text/plain": [
       "<matplotlib.axes._subplots.AxesSubplot at 0x295bb800be0>"
      ]
     },
     "execution_count": 11,
     "metadata": {},
     "output_type": "execute_result"
    },
    {
     "data": {
      "image/png": "[encoded data removed]",
      "text/plain": [
       "<matplotlib.figure.Figure at 0x295bb7fbc88>"
      ]
     },
     "metadata": {},
     "output_type": "display_data"
    }
   ],
   "source": [
    "print(\"Mean agreement: {}\".format(df_var22['agreement'].mean()))\n",
    "print(\"Median agreement: {}\".format(df_var22['agreement'].median()))\n",
    "df_var22['agreement'].hist()"
   ]
  },
  {
   "cell_type": "code",
   "execution_count": null,
   "metadata": {
    "collapsed": true
   },
   "outputs": [],
   "source": []
  }
 ],
 "metadata": {
  "anaconda-cloud": {},
  "kernelspec": {
   "display_name": "Python [conda env:phd-thesis-env]",
   "language": "python",
   "name": "conda-env-phd-thesis-env-py"
  },
  "language_info": {
   "codemirror_mode": {
    "name": "ipython",
    "version": 3
   },
   "file_extension": ".py",
   "mimetype": "text/x-python",
   "name": "python",
   "nbconvert_exporter": "python",
   "pygments_lexer": "ipython3",
   "version": "3.5.2"
  }
 },
 "nbformat": 4,
 "nbformat_minor": 1
}
